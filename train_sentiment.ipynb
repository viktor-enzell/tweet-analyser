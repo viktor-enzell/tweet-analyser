{
 "cells": [
  {
   "cell_type": "code",
   "execution_count": 1,
   "source": [
    "import pandas as pd\r\n",
    "from sklearn.feature_extraction.text import TfidfVectorizer\r\n",
    "from sklearn.model_selection import train_test_split\r\n",
    "import pickle"
   ],
   "outputs": [],
   "metadata": {}
  },
  {
   "cell_type": "markdown",
   "source": [
    "## Set parameters"
   ],
   "metadata": {}
  },
  {
   "cell_type": "code",
   "execution_count": 2,
   "source": [
    "# Set parameters\r\n",
    "min_allowed_occurence = 10\r\n",
    "max_allowed_frequency_rate = 0.95\r\n",
    "labels = ['negative', 'positive']\r\n",
    "destination = 'django_project/models/'"
   ],
   "outputs": [],
   "metadata": {}
  },
  {
   "cell_type": "markdown",
   "source": [
    "## Load and transform data"
   ],
   "metadata": {}
  },
  {
   "cell_type": "code",
   "execution_count": 3,
   "source": [
    "# Load data\r\n",
    "df = pd.read_csv('data.csv')\r\n",
    "X_train, X_test, y_train, y_test = train_test_split(df['text'], df['sentiment'], test_size=0.2, random_state=42)\r\n",
    "\r\n",
    "# Transform features to bag of word representation\r\n",
    "vec = TfidfVectorizer(min_df = min_allowed_occurence, max_df = max_allowed_frequency_rate)\r\n",
    "vec.fit(X_train)\r\n",
    "X_train_features = vec.transform(X_train)\r\n",
    "X_test_features = vec.transform(X_test)"
   ],
   "outputs": [],
   "metadata": {}
  },
  {
   "cell_type": "markdown",
   "source": [
    "## Train a suport vector classifier"
   ],
   "metadata": {}
  },
  {
   "cell_type": "code",
   "execution_count": 4,
   "source": [
    "from sklearn.svm import LinearSVC\r\n",
    "\r\n",
    "#Create to SCV\r\n",
    "SVC = LinearSVC()\r\n",
    "SVC.fit(X_train_features, y_train)\r\n",
    "print(SVC.score(X_test_features, y_test))"
   ],
   "outputs": [
    {
     "output_type": "stream",
     "name": "stdout",
     "text": [
      "0.77915625\n"
     ]
    }
   ],
   "metadata": {}
  },
  {
   "cell_type": "markdown",
   "source": [
    "## Save models "
   ],
   "metadata": {}
  },
  {
   "cell_type": "code",
   "execution_count": 5,
   "source": [
    "# Save model using pickle\r\n",
    "pickle.dump(SVC, open(destination+'model.sav', 'wb'))\r\n",
    "pickle.dump(vec, open(destination+'vectorizer.pk', 'wb'))"
   ],
   "outputs": [],
   "metadata": {}
  }
 ],
 "metadata": {
  "orig_nbformat": 4,
  "language_info": {
   "name": "python",
   "version": "3.8.6",
   "mimetype": "text/x-python",
   "codemirror_mode": {
    "name": "ipython",
    "version": 3
   },
   "pygments_lexer": "ipython3",
   "nbconvert_exporter": "python",
   "file_extension": ".py"
  },
  "kernelspec": {
   "name": "python3",
   "display_name": "Python 3.8.6 64-bit"
  },
  "interpreter": {
   "hash": "05670d60c7d382de5afdc06056b1506cbf442734a10c1850b42e7fcab5ceb50e"
  }
 },
 "nbformat": 4,
 "nbformat_minor": 2
}