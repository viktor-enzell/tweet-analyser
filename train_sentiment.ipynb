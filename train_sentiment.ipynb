{
 "cells": [
  {
   "cell_type": "code",
   "execution_count": 1,
   "source": [
    "import pandas as pd\r\n",
    "from sklearn.feature_extraction.text import TfidfVectorizer\r\n",
    "from sklearn.model_selection import train_test_split, cross_val_score\r\n",
    "import pickle"
   ],
   "outputs": [],
   "metadata": {}
  },
  {
   "cell_type": "code",
   "execution_count": 2,
   "source": [
    "from sklearn.linear_model import LogisticRegression\r\n",
    "from sklearn.svm import LinearSVC\r\n",
    "from sklearn.neighbors import KNeighborsClassifier\r\n",
    "from sklearn.tree import DecisionTreeClassifier\r\n",
    "from sklearn.ensemble import RandomForestClassifier\r\n",
    "from sklearn.ensemble import GradientBoostingClassifier"
   ],
   "outputs": [],
   "metadata": {}
  },
  {
   "cell_type": "markdown",
   "source": [
    "## Set parameters"
   ],
   "metadata": {}
  },
  {
   "cell_type": "code",
   "execution_count": 3,
   "source": [
    "# Set parameters\r\n",
    "min_allowed_occurence = 10\r\n",
    "max_allowed_frequency_rate = 0.95\r\n",
    "labels = ['negative', 'positive']\r\n",
    "destination = 'django_project/models/'"
   ],
   "outputs": [],
   "metadata": {}
  },
  {
   "cell_type": "markdown",
   "source": [
    "## Load and transform data"
   ],
   "metadata": {}
  },
  {
   "cell_type": "code",
   "execution_count": 16,
   "source": [
    "# Load data\r\n",
    "df = pd.read_csv('data.csv').sample(n = 20000)\r\n",
    "X_train, X_temp, y_train, y_temp = train_test_split(df['text'], df['sentiment'], test_size=0.2, random_state=42)\r\n",
    "X_val, X_test, y_val, y_test = train_test_split(X_temp, y_temp, test_size=0.5, random_state=42)\r\n",
    "\r\n",
    "# Transform features to bag of word representation\r\n",
    "vec = TfidfVectorizer(min_df = min_allowed_occurence, max_df = max_allowed_frequency_rate)\r\n",
    "vec.fit(X_train)\r\n",
    "X_train_features = vec.transform(X_train)\r\n",
    "X_test_features = vec.transform(X_test)\r\n",
    "X_val_features = vec.transform(X_val)"
   ],
   "outputs": [],
   "metadata": {}
  },
  {
   "cell_type": "markdown",
   "source": [
    "## Train a suport vector classifier"
   ],
   "metadata": {}
  },
  {
   "cell_type": "code",
   "execution_count": 17,
   "source": [
    "# List of the models we want to test.\r\n",
    "models = [\r\n",
    "          ('LR ', LogisticRegression()), \r\n",
    "          ('KNN', KNeighborsClassifier()),\r\n",
    "          ('SVC', LinearSVC()),\r\n",
    "          ('DT ', DecisionTreeClassifier()),\r\n",
    "          ('RF ', RandomForestClassifier()),\r\n",
    "          ('GB ', GradientBoostingClassifier())\r\n",
    "        ]\r\n",
    "\r\n",
    "# Loop through, test every one and save the cross validation score.\r\n",
    "results = []\r\n",
    "names = []\r\n",
    "for name, model in models:\r\n",
    "    model.fit(X_train_features, y_train)\r\n",
    "    result = model.score(X_val_features, y_val)\r\n",
    "    names.append(name)\r\n",
    "    results.append(result)"
   ],
   "outputs": [],
   "metadata": {}
  },
  {
   "cell_type": "code",
   "execution_count": 18,
   "source": [
    "# Print the score for each model.\r\n",
    "print(\"validation scores:\")\r\n",
    "for i in range(len(names)):\r\n",
    "    print(names[i],results[i].mean())"
   ],
   "outputs": [
    {
     "output_type": "stream",
     "name": "stdout",
     "text": [
      "validation scores:\n",
      "LR  0.759\n",
      "KNN 0.577\n",
      "SVC 0.756\n",
      "DT  0.641\n",
      "RF  0.7285\n",
      "GB  0.6965\n"
     ]
    }
   ],
   "metadata": {}
  },
  {
   "cell_type": "markdown",
   "source": [
    "## Save models "
   ],
   "metadata": {}
  },
  {
   "cell_type": "code",
   "execution_count": 5,
   "source": [
    "# Save model using pickle\r\n",
    "SVC = models[2]\r\n",
    "pickle.dump(SVC, open(destination+'model.sav', 'wb'))\r\n",
    "pickle.dump(vec, open(destination+'vectorizer.pk', 'wb'))"
   ],
   "outputs": [],
   "metadata": {}
  }
 ],
 "metadata": {
  "orig_nbformat": 4,
  "language_info": {
   "name": "python",
   "version": "3.8.6",
   "mimetype": "text/x-python",
   "codemirror_mode": {
    "name": "ipython",
    "version": 3
   },
   "pygments_lexer": "ipython3",
   "nbconvert_exporter": "python",
   "file_extension": ".py"
  },
  "kernelspec": {
   "name": "python3",
   "display_name": "Python 3.8.6 64-bit"
  },
  "interpreter": {
   "hash": "05670d60c7d382de5afdc06056b1506cbf442734a10c1850b42e7fcab5ceb50e"
  }
 },
 "nbformat": 4,
 "nbformat_minor": 2
}